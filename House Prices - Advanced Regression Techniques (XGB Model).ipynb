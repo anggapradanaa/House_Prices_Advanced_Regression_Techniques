{
 "cells": [
  {
   "cell_type": "code",
   "execution_count": 1,
   "id": "04bb685e-c50a-43d1-a48c-4b739a712f88",
   "metadata": {},
   "outputs": [],
   "source": [
    "import pandas as pd\n",
    "import numpy as np\n",
    "from sklearn.model_selection import train_test_split, GridSearchCV\n",
    "from sklearn.pipeline import Pipeline\n",
    "from sklearn.compose import ColumnTransformer\n",
    "from sklearn.impute import SimpleImputer\n",
    "from sklearn.preprocessing import OneHotEncoder, MinMaxScaler\n",
    "from xgboost import XGBRegressor\n",
    "from sklearn.metrics import mean_squared_error, r2_score"
   ]
  },
  {
   "cell_type": "markdown",
   "id": "11f459b7-2285-4d7e-83b6-28c8f848f726",
   "metadata": {},
   "source": [
    "# Import Data"
   ]
  },
  {
   "cell_type": "code",
   "execution_count": 2,
   "id": "01489117-a748-4b10-9fca-edd94d202cbd",
   "metadata": {},
   "outputs": [],
   "source": [
    "# Load the training dataset\n",
    "df_train = pd.read_csv(r\"C:\\Users\\ACER\\Downloads\\house-prices-advanced-regression-techniques\\train.csv\", index_col='Id')\n",
    "\n",
    "# Drop unnecessary columns\n",
    "df_train.drop(columns=['Alley', 'MasVnrType', 'FireplaceQu', 'PoolQC', 'Fence', 'MiscFeature'], inplace=True)\n"
   ]
  },
  {
   "cell_type": "code",
   "execution_count": 3,
   "id": "0e4a38ef-9533-415d-b75c-aacb00a1c37c",
   "metadata": {},
   "outputs": [
    {
     "data": {
      "text/html": [
       "<div>\n",
       "<style scoped>\n",
       "    .dataframe tbody tr th:only-of-type {\n",
       "        vertical-align: middle;\n",
       "    }\n",
       "\n",
       "    .dataframe tbody tr th {\n",
       "        vertical-align: top;\n",
       "    }\n",
       "\n",
       "    .dataframe thead th {\n",
       "        text-align: right;\n",
       "    }\n",
       "</style>\n",
       "<table border=\"1\" class=\"dataframe\">\n",
       "  <thead>\n",
       "    <tr style=\"text-align: right;\">\n",
       "      <th></th>\n",
       "      <th>MSSubClass</th>\n",
       "      <th>MSZoning</th>\n",
       "      <th>LotFrontage</th>\n",
       "      <th>LotArea</th>\n",
       "      <th>Street</th>\n",
       "      <th>LotShape</th>\n",
       "      <th>LandContour</th>\n",
       "      <th>Utilities</th>\n",
       "      <th>LotConfig</th>\n",
       "      <th>LandSlope</th>\n",
       "      <th>...</th>\n",
       "      <th>EnclosedPorch</th>\n",
       "      <th>3SsnPorch</th>\n",
       "      <th>ScreenPorch</th>\n",
       "      <th>PoolArea</th>\n",
       "      <th>MiscVal</th>\n",
       "      <th>MoSold</th>\n",
       "      <th>YrSold</th>\n",
       "      <th>SaleType</th>\n",
       "      <th>SaleCondition</th>\n",
       "      <th>SalePrice</th>\n",
       "    </tr>\n",
       "    <tr>\n",
       "      <th>Id</th>\n",
       "      <th></th>\n",
       "      <th></th>\n",
       "      <th></th>\n",
       "      <th></th>\n",
       "      <th></th>\n",
       "      <th></th>\n",
       "      <th></th>\n",
       "      <th></th>\n",
       "      <th></th>\n",
       "      <th></th>\n",
       "      <th></th>\n",
       "      <th></th>\n",
       "      <th></th>\n",
       "      <th></th>\n",
       "      <th></th>\n",
       "      <th></th>\n",
       "      <th></th>\n",
       "      <th></th>\n",
       "      <th></th>\n",
       "      <th></th>\n",
       "      <th></th>\n",
       "    </tr>\n",
       "  </thead>\n",
       "  <tbody>\n",
       "    <tr>\n",
       "      <th>1</th>\n",
       "      <td>60</td>\n",
       "      <td>RL</td>\n",
       "      <td>65.0</td>\n",
       "      <td>8450</td>\n",
       "      <td>Pave</td>\n",
       "      <td>Reg</td>\n",
       "      <td>Lvl</td>\n",
       "      <td>AllPub</td>\n",
       "      <td>Inside</td>\n",
       "      <td>Gtl</td>\n",
       "      <td>...</td>\n",
       "      <td>0</td>\n",
       "      <td>0</td>\n",
       "      <td>0</td>\n",
       "      <td>0</td>\n",
       "      <td>0</td>\n",
       "      <td>2</td>\n",
       "      <td>2008</td>\n",
       "      <td>WD</td>\n",
       "      <td>Normal</td>\n",
       "      <td>208500</td>\n",
       "    </tr>\n",
       "    <tr>\n",
       "      <th>2</th>\n",
       "      <td>20</td>\n",
       "      <td>RL</td>\n",
       "      <td>80.0</td>\n",
       "      <td>9600</td>\n",
       "      <td>Pave</td>\n",
       "      <td>Reg</td>\n",
       "      <td>Lvl</td>\n",
       "      <td>AllPub</td>\n",
       "      <td>FR2</td>\n",
       "      <td>Gtl</td>\n",
       "      <td>...</td>\n",
       "      <td>0</td>\n",
       "      <td>0</td>\n",
       "      <td>0</td>\n",
       "      <td>0</td>\n",
       "      <td>0</td>\n",
       "      <td>5</td>\n",
       "      <td>2007</td>\n",
       "      <td>WD</td>\n",
       "      <td>Normal</td>\n",
       "      <td>181500</td>\n",
       "    </tr>\n",
       "    <tr>\n",
       "      <th>3</th>\n",
       "      <td>60</td>\n",
       "      <td>RL</td>\n",
       "      <td>68.0</td>\n",
       "      <td>11250</td>\n",
       "      <td>Pave</td>\n",
       "      <td>IR1</td>\n",
       "      <td>Lvl</td>\n",
       "      <td>AllPub</td>\n",
       "      <td>Inside</td>\n",
       "      <td>Gtl</td>\n",
       "      <td>...</td>\n",
       "      <td>0</td>\n",
       "      <td>0</td>\n",
       "      <td>0</td>\n",
       "      <td>0</td>\n",
       "      <td>0</td>\n",
       "      <td>9</td>\n",
       "      <td>2008</td>\n",
       "      <td>WD</td>\n",
       "      <td>Normal</td>\n",
       "      <td>223500</td>\n",
       "    </tr>\n",
       "    <tr>\n",
       "      <th>4</th>\n",
       "      <td>70</td>\n",
       "      <td>RL</td>\n",
       "      <td>60.0</td>\n",
       "      <td>9550</td>\n",
       "      <td>Pave</td>\n",
       "      <td>IR1</td>\n",
       "      <td>Lvl</td>\n",
       "      <td>AllPub</td>\n",
       "      <td>Corner</td>\n",
       "      <td>Gtl</td>\n",
       "      <td>...</td>\n",
       "      <td>272</td>\n",
       "      <td>0</td>\n",
       "      <td>0</td>\n",
       "      <td>0</td>\n",
       "      <td>0</td>\n",
       "      <td>2</td>\n",
       "      <td>2006</td>\n",
       "      <td>WD</td>\n",
       "      <td>Abnorml</td>\n",
       "      <td>140000</td>\n",
       "    </tr>\n",
       "    <tr>\n",
       "      <th>5</th>\n",
       "      <td>60</td>\n",
       "      <td>RL</td>\n",
       "      <td>84.0</td>\n",
       "      <td>14260</td>\n",
       "      <td>Pave</td>\n",
       "      <td>IR1</td>\n",
       "      <td>Lvl</td>\n",
       "      <td>AllPub</td>\n",
       "      <td>FR2</td>\n",
       "      <td>Gtl</td>\n",
       "      <td>...</td>\n",
       "      <td>0</td>\n",
       "      <td>0</td>\n",
       "      <td>0</td>\n",
       "      <td>0</td>\n",
       "      <td>0</td>\n",
       "      <td>12</td>\n",
       "      <td>2008</td>\n",
       "      <td>WD</td>\n",
       "      <td>Normal</td>\n",
       "      <td>250000</td>\n",
       "    </tr>\n",
       "  </tbody>\n",
       "</table>\n",
       "<p>5 rows × 74 columns</p>\n",
       "</div>"
      ],
      "text/plain": [
       "    MSSubClass MSZoning  LotFrontage  LotArea Street LotShape LandContour  \\\n",
       "Id                                                                          \n",
       "1           60       RL         65.0     8450   Pave      Reg         Lvl   \n",
       "2           20       RL         80.0     9600   Pave      Reg         Lvl   \n",
       "3           60       RL         68.0    11250   Pave      IR1         Lvl   \n",
       "4           70       RL         60.0     9550   Pave      IR1         Lvl   \n",
       "5           60       RL         84.0    14260   Pave      IR1         Lvl   \n",
       "\n",
       "   Utilities LotConfig LandSlope  ... EnclosedPorch 3SsnPorch ScreenPorch  \\\n",
       "Id                                ...                                       \n",
       "1     AllPub    Inside       Gtl  ...             0         0           0   \n",
       "2     AllPub       FR2       Gtl  ...             0         0           0   \n",
       "3     AllPub    Inside       Gtl  ...             0         0           0   \n",
       "4     AllPub    Corner       Gtl  ...           272         0           0   \n",
       "5     AllPub       FR2       Gtl  ...             0         0           0   \n",
       "\n",
       "   PoolArea MiscVal  MoSold  YrSold  SaleType  SaleCondition SalePrice  \n",
       "Id                                                                      \n",
       "1         0       0       2    2008        WD         Normal    208500  \n",
       "2         0       0       5    2007        WD         Normal    181500  \n",
       "3         0       0       9    2008        WD         Normal    223500  \n",
       "4         0       0       2    2006        WD        Abnorml    140000  \n",
       "5         0       0      12    2008        WD         Normal    250000  \n",
       "\n",
       "[5 rows x 74 columns]"
      ]
     },
     "execution_count": 3,
     "metadata": {},
     "output_type": "execute_result"
    }
   ],
   "source": [
    "df_train.head()"
   ]
  },
  {
   "cell_type": "code",
   "execution_count": 4,
   "id": "7000ecdd-9755-44c3-95e5-5481ae5cf708",
   "metadata": {},
   "outputs": [
    {
     "name": "stdout",
     "output_type": "stream",
     "text": [
      "<class 'pandas.core.frame.DataFrame'>\n",
      "Index: 1460 entries, 1 to 1460\n",
      "Data columns (total 74 columns):\n",
      " #   Column         Non-Null Count  Dtype  \n",
      "---  ------         --------------  -----  \n",
      " 0   MSSubClass     1460 non-null   int64  \n",
      " 1   MSZoning       1460 non-null   object \n",
      " 2   LotFrontage    1201 non-null   float64\n",
      " 3   LotArea        1460 non-null   int64  \n",
      " 4   Street         1460 non-null   object \n",
      " 5   LotShape       1460 non-null   object \n",
      " 6   LandContour    1460 non-null   object \n",
      " 7   Utilities      1460 non-null   object \n",
      " 8   LotConfig      1460 non-null   object \n",
      " 9   LandSlope      1460 non-null   object \n",
      " 10  Neighborhood   1460 non-null   object \n",
      " 11  Condition1     1460 non-null   object \n",
      " 12  Condition2     1460 non-null   object \n",
      " 13  BldgType       1460 non-null   object \n",
      " 14  HouseStyle     1460 non-null   object \n",
      " 15  OverallQual    1460 non-null   int64  \n",
      " 16  OverallCond    1460 non-null   int64  \n",
      " 17  YearBuilt      1460 non-null   int64  \n",
      " 18  YearRemodAdd   1460 non-null   int64  \n",
      " 19  RoofStyle      1460 non-null   object \n",
      " 20  RoofMatl       1460 non-null   object \n",
      " 21  Exterior1st    1460 non-null   object \n",
      " 22  Exterior2nd    1460 non-null   object \n",
      " 23  MasVnrArea     1452 non-null   float64\n",
      " 24  ExterQual      1460 non-null   object \n",
      " 25  ExterCond      1460 non-null   object \n",
      " 26  Foundation     1460 non-null   object \n",
      " 27  BsmtQual       1423 non-null   object \n",
      " 28  BsmtCond       1423 non-null   object \n",
      " 29  BsmtExposure   1422 non-null   object \n",
      " 30  BsmtFinType1   1423 non-null   object \n",
      " 31  BsmtFinSF1     1460 non-null   int64  \n",
      " 32  BsmtFinType2   1422 non-null   object \n",
      " 33  BsmtFinSF2     1460 non-null   int64  \n",
      " 34  BsmtUnfSF      1460 non-null   int64  \n",
      " 35  TotalBsmtSF    1460 non-null   int64  \n",
      " 36  Heating        1460 non-null   object \n",
      " 37  HeatingQC      1460 non-null   object \n",
      " 38  CentralAir     1460 non-null   object \n",
      " 39  Electrical     1459 non-null   object \n",
      " 40  1stFlrSF       1460 non-null   int64  \n",
      " 41  2ndFlrSF       1460 non-null   int64  \n",
      " 42  LowQualFinSF   1460 non-null   int64  \n",
      " 43  GrLivArea      1460 non-null   int64  \n",
      " 44  BsmtFullBath   1460 non-null   int64  \n",
      " 45  BsmtHalfBath   1460 non-null   int64  \n",
      " 46  FullBath       1460 non-null   int64  \n",
      " 47  HalfBath       1460 non-null   int64  \n",
      " 48  BedroomAbvGr   1460 non-null   int64  \n",
      " 49  KitchenAbvGr   1460 non-null   int64  \n",
      " 50  KitchenQual    1460 non-null   object \n",
      " 51  TotRmsAbvGrd   1460 non-null   int64  \n",
      " 52  Functional     1460 non-null   object \n",
      " 53  Fireplaces     1460 non-null   int64  \n",
      " 54  GarageType     1379 non-null   object \n",
      " 55  GarageYrBlt    1379 non-null   float64\n",
      " 56  GarageFinish   1379 non-null   object \n",
      " 57  GarageCars     1460 non-null   int64  \n",
      " 58  GarageArea     1460 non-null   int64  \n",
      " 59  GarageQual     1379 non-null   object \n",
      " 60  GarageCond     1379 non-null   object \n",
      " 61  PavedDrive     1460 non-null   object \n",
      " 62  WoodDeckSF     1460 non-null   int64  \n",
      " 63  OpenPorchSF    1460 non-null   int64  \n",
      " 64  EnclosedPorch  1460 non-null   int64  \n",
      " 65  3SsnPorch      1460 non-null   int64  \n",
      " 66  ScreenPorch    1460 non-null   int64  \n",
      " 67  PoolArea       1460 non-null   int64  \n",
      " 68  MiscVal        1460 non-null   int64  \n",
      " 69  MoSold         1460 non-null   int64  \n",
      " 70  YrSold         1460 non-null   int64  \n",
      " 71  SaleType       1460 non-null   object \n",
      " 72  SaleCondition  1460 non-null   object \n",
      " 73  SalePrice      1460 non-null   int64  \n",
      "dtypes: float64(3), int64(34), object(37)\n",
      "memory usage: 855.5+ KB\n"
     ]
    }
   ],
   "source": [
    "df_train.info()"
   ]
  },
  {
   "cell_type": "markdown",
   "id": "0ad8e9ef-fb21-4bd5-9d75-a9959173d441",
   "metadata": {},
   "source": [
    "# Splitting Data and Preprocessing"
   ]
  },
  {
   "cell_type": "code",
   "execution_count": 3,
   "id": "66c18282-8d66-499f-abef-0c09148bd4b2",
   "metadata": {},
   "outputs": [],
   "source": [
    "# Split into features and target\n",
    "X = df_train.drop(columns='SalePrice')\n",
    "y = df_train['SalePrice']"
   ]
  },
  {
   "cell_type": "code",
   "execution_count": 4,
   "id": "b3041a26-da1e-4508-a3d4-e6db1e1ce40d",
   "metadata": {},
   "outputs": [],
   "source": [
    "# Define numerical and categorical features\n",
    "numerical_features = X.select_dtypes(include=np.number).columns.tolist()\n",
    "categorical_features = X.select_dtypes(include='object').columns.tolist()"
   ]
  },
  {
   "cell_type": "code",
   "execution_count": 5,
   "id": "e9a20642-13a7-4935-9e2e-6a8f3b9a572f",
   "metadata": {},
   "outputs": [],
   "source": [
    "# Define preprocessing pipelines\n",
    "numerical_pipeline = Pipeline([\n",
    "    ('imputer', SimpleImputer(strategy='median')),\n",
    "    ('scaler', MinMaxScaler())\n",
    "])\n",
    "\n",
    "categorical_pipeline = Pipeline([\n",
    "    ('imputer', SimpleImputer(strategy='most_frequent')),\n",
    "    ('onehot', OneHotEncoder(handle_unknown='ignore'))\n",
    "])\n",
    "\n",
    "# Combine preprocessing pipelines\n",
    "preprocessor = ColumnTransformer([\n",
    "    ('numeric', numerical_pipeline, numerical_features),\n",
    "    ('categoric', categorical_pipeline, categorical_features)\n",
    "])"
   ]
  },
  {
   "cell_type": "markdown",
   "id": "1d942467-f81f-46b2-9fbf-539b8865ed92",
   "metadata": {},
   "source": [
    "# Modelling, Tuning, and Evaluation"
   ]
  },
  {
   "cell_type": "code",
   "execution_count": 6,
   "id": "9966399e-b039-4e98-a758-ca31a57cb14f",
   "metadata": {},
   "outputs": [],
   "source": [
    "# Define the XGBRegressor model pipeline\n",
    "pipeline_xgb = Pipeline([\n",
    "    ('prep', preprocessor),\n",
    "    ('algo_xgb', XGBRegressor(objective='reg:squarederror', random_state=42))\n",
    "])"
   ]
  },
  {
   "cell_type": "code",
   "execution_count": 7,
   "id": "7bbbb278-1866-47c3-be7a-bbd4cc6f6962",
   "metadata": {},
   "outputs": [
    {
     "name": "stdout",
     "output_type": "stream",
     "text": [
      "Fitting 3 folds for each of 512 candidates, totalling 1536 fits\n",
      "Best parameters for XGBRegressor: {'algo_xgb__alpha': 0.1, 'algo_xgb__gamma': 0, 'algo_xgb__lambda': 10, 'algo_xgb__learning_rate': 0.1, 'algo_xgb__max_depth': 5, 'algo_xgb__min_child_weight': 1, 'algo_xgb__n_estimators': 200}\n",
      "Best RMSE score for XGBRegressor: 26785.23880409128\n",
      "R^2 score for XGBRegressor on training data: 0.9894520044326782\n"
     ]
    }
   ],
   "source": [
    "# Define the parameter grid for XGBRegressor\n",
    "param_grid_xgb = {\n",
    "    'algo_xgb__n_estimators': [100, 200],\n",
    "    'algo_xgb__learning_rate': [0.05, 0.1],\n",
    "    'algo_xgb__max_depth': [3, 5],\n",
    "    'algo_xgb__min_child_weight': [1, 3],\n",
    "    'algo_xgb__gamma': [0, 0.1],\n",
    "    'algo_xgb__alpha': [0, 0.1, 1, 10],  # L1 Regularization\n",
    "    'algo_xgb__lambda': [1, 2, 5, 10]   # L2 Regularization\n",
    "}\n",
    "\n",
    "# Define custom scoring (RMSE)\n",
    "scoring = 'neg_root_mean_squared_error'\n",
    "\n",
    "# Grid search for XGBRegressor\n",
    "grid_search_xgb = GridSearchCV(pipeline_xgb, param_grid=param_grid_xgb, cv=3, scoring=scoring, n_jobs=-1, verbose=1)\n",
    "\n",
    "# Fit the grid search object on training data\n",
    "grid_search_xgb.fit(X, y)\n",
    "\n",
    "# Print the best parameters and best RMSE score for XGBRegressor\n",
    "print(\"Best parameters for XGBRegressor:\", grid_search_xgb.best_params_)\n",
    "print(\"Best RMSE score for XGBRegressor:\", -grid_search_xgb.best_score_)\n",
    "\n",
    "# Print R-squared score for XGBRegressor with best parameters\n",
    "best_xgb_model = grid_search_xgb.best_estimator_\n",
    "y_pred_train = best_xgb_model.predict(X)\n",
    "r2_xgb_train = r2_score(y, y_pred_train)\n",
    "print(\"R^2 score for XGBRegressor on training data:\", r2_xgb_train)"
   ]
  },
  {
   "cell_type": "code",
   "execution_count": 8,
   "id": "20e6ef1f-4ba4-4105-a329-8b4be7a49490",
   "metadata": {},
   "outputs": [
    {
     "name": "stdout",
     "output_type": "stream",
     "text": [
      "\n",
      "Actual vs Predicted SalePrice for training data:\n",
      "    Actual_SalePrice  Predicted_SalePrice\n",
      "Id                                       \n",
      "1             208500        200526.234375\n",
      "2             181500        175038.375000\n",
      "3             223500        213689.109375\n",
      "4             140000        151076.687500\n",
      "5             250000        266002.906250\n"
     ]
    }
   ],
   "source": [
    "# Display actual vs predicted SalePrice for training data\n",
    "results_train = pd.DataFrame({'Actual_SalePrice': y, 'Predicted_SalePrice': y_pred_train})\n",
    "print(\"\\nActual vs Predicted SalePrice for training data:\")\n",
    "print(results_train.head())"
   ]
  },
  {
   "cell_type": "code",
   "execution_count": 9,
   "id": "5344ec41-1d50-4776-9bef-eb1aaea09a9e",
   "metadata": {},
   "outputs": [
    {
     "data": {
      "image/png": "[encoded data removed]",
      "text/plain": [
       "<Figure size 1000x500 with 1 Axes>"
      ]
     },
     "metadata": {},
     "output_type": "display_data"
    }
   ],
   "source": [
    "import matplotlib.pyplot as plt\n",
    "\n",
    "# Plot actual vs predicted for training set\n",
    "plt.figure(figsize=(10, 5))\n",
    "plt.scatter(y, y_pred_train, alpha=0.5)\n",
    "plt.plot([min(y), max(y)], [min(y), max(y)], '--', color='red')\n",
    "plt.title(\"XGBRegressor: Actual vs Predicted SalePrice on Training Data\")\n",
    "plt.xlabel(\"Actual SalePrice\")\n",
    "plt.ylabel(\"Predicted SalePrice\")\n",
    "plt.grid(True)\n",
    "plt.show()"
   ]
  },
  {
   "cell_type": "markdown",
   "id": "505bb572-3965-4d2a-bbd5-04a7cc40a1b5",
   "metadata": {},
   "source": [
    "# Apply to New Dataset and Predict"
   ]
  },
  {
   "cell_type": "code",
   "execution_count": 10,
   "id": "ef10d3d0-54ae-436f-a24e-d09ddfce1e6e",
   "metadata": {},
   "outputs": [],
   "source": [
    "# Load the test dataset\n",
    "df_test = pd.read_csv(r\"C:\\Users\\ACER\\Downloads\\house-prices-advanced-regression-techniques\\test.csv\", index_col='Id')  # Adjust path as per your test dataset location"
   ]
  },
  {
   "cell_type": "code",
   "execution_count": 11,
   "id": "186b5b1b-ded6-4edc-bb3a-6bfcdfa1f4f5",
   "metadata": {},
   "outputs": [],
   "source": [
    "# Preprocess the test dataset\n",
    "X_test_new = grid_search_xgb.best_estimator_.named_steps['prep'].transform(df_test)\n",
    "\n",
    "# Make predictions on the test dataset\n",
    "predictions = grid_search_xgb.best_estimator_.named_steps['algo_xgb'].predict(X_test_new)\n"
   ]
  },
  {
   "cell_type": "code",
   "execution_count": 12,
   "id": "b1e65c32-4576-4b16-82e6-d7ce495691df",
   "metadata": {},
   "outputs": [
    {
     "name": "stdout",
     "output_type": "stream",
     "text": [
      "\n",
      "Sample of 'Id' and 'SalePrice' columns from test dataset:\n",
      "     Id      SalePrice\n",
      "0  1461  125369.429688\n",
      "1  1462  155000.562500\n",
      "2  1463  182293.890625\n",
      "3  1464  192370.625000\n",
      "4  1465  189375.515625\n"
     ]
    }
   ],
   "source": [
    "# Create a DataFrame with 'Id' and predicted 'SalePrice'\n",
    "results_df = pd.DataFrame({\n",
    "    'Id': df_test.index,\n",
    "    'SalePrice': predictions\n",
    "})\n",
    "\n",
    "# Display the first few rows of the results\n",
    "print(\"\\nSample of 'Id' and 'SalePrice' columns from test dataset:\")\n",
    "print(results_df.head())"
   ]
  },
  {
   "cell_type": "code",
   "execution_count": 13,
   "id": "e036ac49-3a98-4a88-96d6-af65ffc8db8e",
   "metadata": {},
   "outputs": [
    {
     "name": "stdout",
     "output_type": "stream",
     "text": [
      "Predictions saved to 'predictions.csv'.\n"
     ]
    }
   ],
   "source": [
    "# Save the predictions to a CSV file\n",
    "results_df.to_csv(r\"C:\\Users\\ACER\\Downloads\\House Prices - Advanced Regression Techniques.csv\", index=False)\n",
    "\n",
    "print(\"Predictions saved to 'predictions.csv'.\")\n"
   ]
  }
 ],
 "metadata": {
  "kernelspec": {
   "display_name": "Python 3 (ipykernel)",
   "language": "python",
   "name": "python3"
  },
  "language_info": {
   "codemirror_mode": {
    "name": "ipython",
    "version": 3
   },
   "file_extension": ".py",
   "mimetype": "text/x-python",
   "name": "python",
   "nbconvert_exporter": "python",
   "pygments_lexer": "ipython3",
   "version": "3.11.7"
  }
 },
 "nbformat": 4,
 "nbformat_minor": 5
}
